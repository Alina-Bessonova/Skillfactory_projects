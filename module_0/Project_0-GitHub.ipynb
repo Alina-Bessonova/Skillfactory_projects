{
 "cells": [
  {
   "cell_type": "code",
   "execution_count": 3,
   "metadata": {},
   "outputs": [
    {
     "name": "stdout",
     "output_type": "stream",
     "text": [
      "Загадано число от 1 до 100\n"
     ]
    }
   ],
   "source": [
    "import numpy as np\n",
    "\n",
    "count = 0                            # счетчик попыток\n",
    "number = np.random.randint(1,101)    # загадали число\n",
    "\n",
    "print (\"Загадано число от 1 до 100\")"
   ]
  },
  {
   "cell_type": "code",
   "execution_count": 4,
   "metadata": {},
   "outputs": [
    {
     "name": "stdout",
     "output_type": "stream",
     "text": [
      "42\n",
      "Угадываемое число больше 42 \n",
      "65\n",
      "Угадываемое число больше 65 \n",
      "78\n",
      "Угадываемое число больше 78 \n",
      "84\n",
      "Угадываемое число меньше 84 \n",
      "82\n",
      "Угадываемое число меньше 82 \n",
      "79\n",
      "Угадываемое число больше 79 \n",
      "80\n",
      "Угадываемое число больше 80 \n",
      "81\n",
      "Вы угадали число 81 за 8 попыток.\n"
     ]
    }
   ],
   "source": [
    "while True:                        # бесконечный цикл\n",
    "    predict = int(input())         # предполагаемое число\n",
    "    count += 1                     # плюсуем попытку\n",
    "        \n",
    "    if number == predict:\n",
    "            break                  # выход из цикла, если угадали\n",
    "    elif number > predict:\n",
    "            print (f\"Угадываемое число больше {predict} \")\n",
    "    elif number < predict:\n",
    "            print (f\"Угадываемое число меньше {predict} \")\n",
    "            \n",
    "print (f\"Вы угадали число {number} за {count} попыток.\")"
   ]
  },
  {
   "cell_type": "code",
   "execution_count": 5,
   "metadata": {},
   "outputs": [
    {
     "name": "stdout",
     "output_type": "stream",
     "text": [
      "Загадано число от 1 до 100\n",
      "Вы угадали число 69 за 69 попыток.\n"
     ]
    }
   ],
   "source": [
    "number = np.random.randint(1,101)    # загадали число\n",
    "print (\"Загадано число от 1 до 100\")\n",
    "\n",
    "for count in range(1,101):         # более компактный вариант счетчика\n",
    "    if number == count:\n",
    "        break                      # выход из цикла, если угадали      \n",
    "print (f\"Вы угадали число {number} за {count} попыток.\")"
   ]
  },
  {
   "cell_type": "code",
   "execution_count": 6,
   "metadata": {},
   "outputs": [],
   "source": [
    "def game_core_v1(number):\n",
    "    '''Просто угадываем на random, никак не используя информацию о больше или меньше.\n",
    "    Функция принимает загаданное число и возвращает число попыток.'''\n",
    "    \n",
    "    count = 0\n",
    "    while True:\n",
    "        count += 1\n",
    "        predict = np.random.randint(1,101) # предполагаемое число\n",
    "        \n",
    "        if number == predict: \n",
    "            return(count) # выход из цикла, если угадали\n",
    "\n",
    "        \n",
    "def score_game(game_core):\n",
    "# Запускаем игру 1000 раз, чтобы узнать, как быстро игра угадывает число.\n",
    "\n",
    "    count_ls = []\n",
    "    np.random.seed(1)  # фиксируем RANDOM SEED, чтобы ваш эксперимент был воспроизводим!\n",
    "    random_array = np.random.randint(1,101, size=(1000))\n",
    "    \n",
    "    for number in random_array:\n",
    "        count_ls.append(game_core(number))\n",
    "\n",
    "    score = int(np.mean(count_ls))\n",
    "    print(f\"Ваш алгоритм угадывает число в среднем за {score} попыток\")\n",
    "    \n",
    "    return(score)"
   ]
  },
  {
   "cell_type": "code",
   "execution_count": 7,
   "metadata": {},
   "outputs": [
    {
     "name": "stdout",
     "output_type": "stream",
     "text": [
      "Ваш алгоритм угадывает число в среднем за 101 попыток\n",
      "101\n"
     ]
    }
   ],
   "source": [
    "# запускаем\n",
    "print(score_game(game_core_v1))"
   ]
  },
  {
   "cell_type": "code",
   "execution_count": 8,
   "metadata": {},
   "outputs": [],
   "source": [
    "def game_core_v2(number):\n",
    "    '''Сначала устанавливаем любое random число.\n",
    "    Потом уменьшаем или увеличиваем его в зависимости от того, больше оно или меньше нужного.\n",
    "    Функция принимает загаданное число и возвращает число попыток.'''\n",
    "    \n",
    "    count = 1\n",
    "    predict = np.random.randint(1,101)\n",
    "    \n",
    "    while number != predict:\n",
    "        count += 1\n",
    "        if number > predict: \n",
    "            predict += 1\n",
    "        elif number < predict: \n",
    "            predict -= 1\n",
    "            \n",
    "    return(count) # выход из цикла, если угадали"
   ]
  },
  {
   "cell_type": "code",
   "execution_count": 9,
   "metadata": {},
   "outputs": [
    {
     "name": "stdout",
     "output_type": "stream",
     "text": [
      "Ваш алгоритм угадывает число в среднем за 33 попыток\n",
      "33\n"
     ]
    }
   ],
   "source": [
    "# Проверяем\n",
    "print(score_game(game_core_v2))"
   ]
  },
  {
   "cell_type": "code",
   "execution_count": 10,
   "metadata": {},
   "outputs": [],
   "source": [
    "def game_core_v3(number):\n",
    "    '''Function to get conceived number in the less of tries.'''\n",
    "\n",
    "    first_num = 1 #starting of range\n",
    "    last_num = 100 #end of range\n",
    "    middle_num = (first_num + last_num) #middle number of range\n",
    "    count = 1\n",
    "    \n",
    "    while number != middle_num: #initiate the cycle\n",
    "        middle_num = (first_num + last_num) // 2\n",
    "        count += 1\n",
    "       \n",
    "        if number > middle_num:  #makes range twice less and returns to the cycle\n",
    "            first_num = (middle_num + 1)\n",
    "        else:\n",
    "            last_num = (middle_num - 1)\n",
    "            \n",
    "    return(count)"
   ]
  },
  {
   "cell_type": "code",
   "execution_count": 11,
   "metadata": {},
   "outputs": [
    {
     "name": "stdout",
     "output_type": "stream",
     "text": [
      "Ваш алгоритм угадывает число в среднем за 6 попыток\n",
      "6\n",
      "69\n"
     ]
    }
   ],
   "source": [
    "# Проверяем\n",
    "print(score_game(game_core_v3))\n",
    "print(number)"
   ]
  },
  {
   "cell_type": "code",
   "execution_count": null,
   "metadata": {},
   "outputs": [],
   "source": []
  }
 ],
 "metadata": {
  "kernelspec": {
   "display_name": "Python 3",
   "language": "python",
   "name": "python3"
  },
  "language_info": {
   "codemirror_mode": {
    "name": "ipython",
    "version": 3
   },
   "file_extension": ".py",
   "mimetype": "text/x-python",
   "name": "python",
   "nbconvert_exporter": "python",
   "pygments_lexer": "ipython3",
   "version": "3.8.3"
  }
 },
 "nbformat": 4,
 "nbformat_minor": 4
}
